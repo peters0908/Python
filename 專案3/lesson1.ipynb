{
 "cells": [
  {
   "cell_type": "code",
   "execution_count": null,
   "metadata": {},
   "outputs": [],
   "source": [
    "import requests\n",
    "api_key = \"75f99c6e5bf613675e743a9c3ab32009\"\n",
    "cityName = \"Taipei\"\n",
    "url = f\"https://api.openweathermap.org/data/2.5/forecast?q={cityName},tw&APPID={api_key}&lang=zh_tw&units=metric\"\n",
    "\n",
    "response = requests.get(url=url)\n",
    "\n",
    "if response.ok:\n",
    "    print(\"下載成功\")\n",
    "    print(response.text)\n",
    "else:\n",
    "    print(\"下載失敗\")"
   ]
  },
  {
   "cell_type": "code",
   "execution_count": 12,
   "metadata": {},
   "outputs": [
    {
     "name": "stdout",
     "output_type": "stream",
     "text": [
      "超出索引編號\n"
     ]
    }
   ],
   "source": [
    "names = [\"aaa\", \"bbb\", \"ccc\", \"ddd\"]\n",
    "try:\n",
    "    print(names[6])\n",
    "\n",
    "except IndexError:\n",
    "    print(\"超出索引編號\")\n",
    "\n",
    "except Exception as e:\n",
    "    print(\"發生錯誤 \", e)"
   ]
  },
  {
   "cell_type": "code",
   "execution_count": null,
   "metadata": {},
   "outputs": [],
   "source": [
    "from tkinter import * \n",
    "from tkinter import ttk \n",
    "\n",
    "\n",
    "window = Tk() \n",
    "window.title(\"Title Name\") \n",
    "window.config(bg='#FFFAFA')\n",
    "window.geometry('1024x800')\n",
    "\n",
    "\n",
    "menubar = Menu(window) \n",
    "filemenu = Menu(menubar,tearoff=0)\n",
    "menubar.add_cascade(label='File',menu=filemenu)\n",
    "filemenu.add_command(label='Open')\n",
    "filemenu.add_command(label='Clear')\n",
    "filemenu.add_command(label='Save As')\n",
    "filemenu.add_separator()\n",
    "filemenu.add_command(label='Exit')\n",
    "\n",
    "\n",
    "helpmenu = Menu(menubar,tearoff=0)\n",
    "menubar.add_cascade(label='Help',menu=helpmenu)\n",
    "helpmenu.add_command(label='Precuations')\n",
    "helpmenu.add_command(label='Version Info')\n",
    "helpmenu.add_command(label='Technical Support')\n",
    "\n",
    "window.config(menu=menubar)\n",
    "\n",
    "rows = 0\n",
    "while rows<50:\n",
    "    window.rowconfigure(rows,weight=1)\n",
    "    window.columnconfigure(rows, weight=1)\n",
    "    rows +=1\n",
    "\n",
    "#creation of frame\n",
    "mainframe = ttk.Notebook(window,width=50)\n",
    "mainframe.grid(row=1,column=2,columnspan=45,rowspan=43,sticky='NESW')\n",
    "\n",
    "#create tabs within the frame\n",
    "tab1 = ttk.Frame(mainframe)\n",
    "mainframe.add(tab1, text=\"Tab1\")\n",
    "\n",
    "\n",
    "tab2 = ttk.Frame(mainframe)\n",
    "mainframe.add(tab2, text=\"Tab2\")\n",
    "\n",
    "\n",
    "tab3 = ttk.Frame(mainframe)\n",
    "mainframe.add(tab3, text=\"Tab3\")\n",
    "\n",
    "tab4 = ttk.Frame(mainframe)\n",
    "mainframe.add(tab4, text=\"Tab4\")\n",
    "\n",
    "tab5 = ttk.Frame(mainframe)\n",
    "mainframe.add(tab5, text=\"Tab4\")\n",
    "\n",
    "window.mainloop()"
   ]
  }
 ],
 "metadata": {
  "kernelspec": {
   "display_name": "Python 3.10.7 ('venv02')",
   "language": "python",
   "name": "python3"
  },
  "language_info": {
   "codemirror_mode": {
    "name": "ipython",
    "version": 3
   },
   "file_extension": ".py",
   "mimetype": "text/x-python",
   "name": "python",
   "nbconvert_exporter": "python",
   "pygments_lexer": "ipython3",
   "version": "3.10.7"
  },
  "orig_nbformat": 4,
  "vscode": {
   "interpreter": {
    "hash": "58063be7e188377c0db332b757cda9b3c21051a66383f8548df10a3641e20c7d"
   }
  }
 },
 "nbformat": 4,
 "nbformat_minor": 2
}
